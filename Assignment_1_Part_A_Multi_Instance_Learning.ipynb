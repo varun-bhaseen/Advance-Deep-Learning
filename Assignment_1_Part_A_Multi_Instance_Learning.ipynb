{
  "nbformat": 4,
  "nbformat_minor": 0,
  "metadata": {
    "colab": {
      "name": "Assignment-1_Part_A_Multi_Instance_Learning.ipynb",
      "provenance": [],
      "authorship_tag": "ABX9TyMw7lphuecRwPBebV6jNy88",
      "include_colab_link": true
    },
    "kernelspec": {
      "name": "python3",
      "display_name": "Python 3"
    }
  },
  "cells": [
    {
      "cell_type": "markdown",
      "metadata": {
        "id": "view-in-github",
        "colab_type": "text"
      },
      "source": [
        "<a href=\"https://colab.research.google.com/github/vrnTEK/Advance-Deep-Learning/blob/master/Assignment_1_Part_A_Multi_Instance_Learning.ipynb\" target=\"_parent\"><img src=\"https://colab.research.google.com/assets/colab-badge.svg\" alt=\"Open In Colab\"/></a>"
      ]
    },
    {
      "cell_type": "markdown",
      "metadata": {
        "id": "C-PxSSPKjV-Y",
        "colab_type": "text"
      },
      "source": [
        "# Assignment-1 Part-A"
      ]
    },
    {
      "cell_type": "markdown",
      "metadata": {
        "id": "T0KdOrAWjNHv",
        "colab_type": "text"
      },
      "source": [
        "## A) Multi Instance Learning:\n",
        "\n",
        "### Definition and Understanding:\n",
        "\n",
        "Consider this you have an album with many images you have clicked and you want to determine how many of those images have cats. The Question is how to determine this.\n",
        "\n",
        "One approach could be to create a CNN model and train it on multiple cats images and pass your images to identify which images have cats. This approach is good provided the image size is not too large and fits within the memory.\n",
        "\n",
        "But if the image exceeds the memory size then what can we do. Perhaps increase more memory (This is inefficient as there will always be scenarios with huge data size which is much bigger than the memory). So how solve this problem.\n",
        "\n",
        "One thing we can do is that we can split multiple images into smaller chunks and determine if any one of them has a cat in it. If even one small piece has a cat (or cat like structure) the image will be classified as positive (image with a cat) else it will be negative.\n",
        "\n",
        "This approach of weakly identifying the labels is called as Multi Instance Learning where a single instance is divided into multiple instance and then classification will be carried on them."
      ]
    },
    {
      "cell_type": "code",
      "metadata": {
        "id": "DIVTaHNjjLuF",
        "colab_type": "code",
        "colab": {}
      },
      "source": [
        ""
      ],
      "execution_count": null,
      "outputs": []
    }
  ]
}