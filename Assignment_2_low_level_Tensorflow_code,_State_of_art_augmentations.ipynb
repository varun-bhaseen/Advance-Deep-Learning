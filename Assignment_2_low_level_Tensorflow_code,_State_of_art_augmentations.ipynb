{
  "nbformat": 4,
  "nbformat_minor": 0,
  "metadata": {
    "colab": {
      "name": "Assignment 2 : low level Tensorflow code, State of art augmentations.ipynb",
      "provenance": [],
      "authorship_tag": "ABX9TyOZd0q+wty42IFNgmwhTYdz",
      "include_colab_link": true
    },
    "kernelspec": {
      "name": "python3",
      "display_name": "Python 3"
    }
  },
  "cells": [
    {
      "cell_type": "markdown",
      "metadata": {
        "id": "view-in-github",
        "colab_type": "text"
      },
      "source": [
        "<a href=\"https://colab.research.google.com/github/varun-bhaseen/Advance-Deep-Learning/blob/master/Assignment_2_low_level_Tensorflow_code%2C_State_of_art_augmentations.ipynb\" target=\"_parent\"><img src=\"https://colab.research.google.com/assets/colab-badge.svg\" alt=\"Open In Colab\"/></a>"
      ]
    },
    {
      "cell_type": "markdown",
      "metadata": {
        "id": "3TPeYlCoqhp0",
        "colab_type": "text"
      },
      "source": [
        "# Assignment-2 Part 1 Low Level Tensorflow Code:\n",
        "\n",
        "In this assignment we need to use gradient tape and low level tensorflow code (do not use keras) to build a linear classifier"
      ]
    },
    {
      "cell_type": "markdown",
      "metadata": {
        "id": "_R8FO8Zvtxd9",
        "colab_type": "text"
      },
      "source": [
        "## 1. Importing the libraries as required"
      ]
    },
    {
      "cell_type": "code",
      "metadata": {
        "id": "JTJp5PcsqW8B",
        "colab_type": "code",
        "colab": {}
      },
      "source": [
        "# imports\n",
        "import tensorflow as tf\n",
        "import numpy as np\n",
        "import matplotlib.pyplot as plt"
      ],
      "execution_count": null,
      "outputs": []
    },
    {
      "cell_type": "markdown",
      "metadata": {
        "id": "zYonHjx0vb0l",
        "colab_type": "text"
      },
      "source": [
        "## 2. Data Dimension\n",
        "Let us use MNIST dataset for creating the classifier. The dimention of MNIST is 28*28 pixels of image with 10 classes. We will flatten the image to process it for the classifier"
      ]
    },
    {
      "cell_type": "code",
      "metadata": {
        "id": "HgXGdYgBqsSG",
        "colab_type": "code",
        "colab": {}
      },
      "source": [
        "img_h = img_w = 28             # MNIST images are 28x28\n",
        "img_size_flat = img_h * img_w  # 28x28=784, the total number of pixels\n",
        "n_classes = 10                 # Number of classes, one class per digit"
      ],
      "execution_count": 1,
      "outputs": []
    },
    {
      "cell_type": "markdown",
      "metadata": {
        "id": "4DGIkbuzwIJE",
        "colab_type": "text"
      },
      "source": [
        "## 3. Functions to Load MNIST dataset\n",
        "\n",
        "we'll write the function which automatically loads the MNIST data and returns it in our desired shape and format. "
      ]
    },
    {
      "cell_type": "code",
      "metadata": {
        "id": "aum7rJi3wBhB",
        "colab_type": "code",
        "colab": {}
      },
      "source": [
        ""
      ],
      "execution_count": null,
      "outputs": []
    }
  ]
}