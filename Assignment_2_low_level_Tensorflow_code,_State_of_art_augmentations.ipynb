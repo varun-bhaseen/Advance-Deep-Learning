{
  "nbformat": 4,
  "nbformat_minor": 0,
  "metadata": {
    "colab": {
      "name": "Assignment 2 : low level Tensorflow code, State of art augmentations.ipynb",
      "provenance": [],
      "authorship_tag": "ABX9TyNJZYANfxlxHhreEUhGQ8YU",
      "include_colab_link": true
    },
    "kernelspec": {
      "name": "python3",
      "display_name": "Python 3"
    }
  },
  "cells": [
    {
      "cell_type": "markdown",
      "metadata": {
        "id": "view-in-github",
        "colab_type": "text"
      },
      "source": [
        "<a href=\"https://colab.research.google.com/github/varun-bhaseen/Advance-Deep-Learning/blob/master/Assignment_2_low_level_Tensorflow_code%2C_State_of_art_augmentations.ipynb\" target=\"_parent\"><img src=\"https://colab.research.google.com/assets/colab-badge.svg\" alt=\"Open In Colab\"/></a>"
      ]
    },
    {
      "cell_type": "markdown",
      "metadata": {
        "id": "3TPeYlCoqhp0",
        "colab_type": "text"
      },
      "source": [
        "# Assignment-2 Part 1 Low Level Tensorflow Code:\n",
        "\n",
        "In this assignment we need to use gradient tape and low level tensorflow code (do not use keras) to build a linear classifier"
      ]
    },
    {
      "cell_type": "markdown",
      "metadata": {
        "id": "_R8FO8Zvtxd9",
        "colab_type": "text"
      },
      "source": [
        "## 1. Importing the libraries as required"
      ]
    },
    {
      "cell_type": "code",
      "metadata": {
        "id": "JTJp5PcsqW8B",
        "colab_type": "code",
        "colab": {}
      },
      "source": [
        "# imports\n",
        "import tensorflow as tf\n",
        "import numpy as np\n",
        "import matplotlib.pyplot as plt\n",
        "# from tensorflow.examples.tutorials.mnist import input_data\n",
        "# import input_data\n",
        "from tensorflow.examples.tutorials.mnist import input_data"
      ],
      "execution_count": null,
      "outputs": []
    },
    {
      "cell_type": "markdown",
      "metadata": {
        "id": "zYonHjx0vb0l",
        "colab_type": "text"
      },
      "source": [
        "## 2. Data Dimension\n",
        "Let us use MNIST dataset for creating the classifier. The dimention of MNIST is 28*28 pixels of image with 10 classes. We will flatten the image to process it for the classifier"
      ]
    },
    {
      "cell_type": "code",
      "metadata": {
        "id": "HgXGdYgBqsSG",
        "colab_type": "code",
        "colab": {}
      },
      "source": [
        "img_h = img_w = 28             # MNIST images are 28x28\n",
        "img_size_flat = img_h * img_w  # 28x28=784, the total number of pixels\n",
        "n_classes = 10                 # Number of classes, one class per digit"
      ],
      "execution_count": 2,
      "outputs": []
    },
    {
      "cell_type": "markdown",
      "metadata": {
        "id": "4DGIkbuzwIJE",
        "colab_type": "text"
      },
      "source": [
        "## 3. Functions to Load MNIST dataset\n",
        "\n",
        "we'll write the function which automatically loads the MNIST data and returns it in our desired shape and format. \n",
        "\n",
        "Here, we'll simply write a function (load_data) which has two modes: train (which loads the training and validation images and their corresponding labels) and test (which loads the test images and their corresponding labels)"
      ]
    },
    {
      "cell_type": "code",
      "metadata": {
        "id": "aum7rJi3wBhB",
        "colab_type": "code",
        "colab": {}
      },
      "source": [
        "def load_data(mode='train'):\n",
        "    \"\"\"\n",
        "    Function to (download and) load the MNIST data\n",
        "    :param mode: train or test\n",
        "    :return: images and the corresponding labels\n",
        "    \"\"\"\n",
        "    import tensorflow_datasets as tfds\n",
        "    ds = tfds.load('mnist', split='train', shuffle_files=True)\n",
        "    # mnist = input_data.read_data_sets(\"MNIST_data/\", one_hot=True)\n",
        "    if mode == 'train':\n",
        "        x_train, y_train, x_valid, y_valid = mnist.train.images, mnist.train.labels, \\\n",
        "                                             mnist.validation.images, mnist.validation.labels\n",
        "        return x_train, y_train, x_valid, y_valid\n",
        "    elif mode == 'test':\n",
        "        x_test, y_test = mnist.test.images, mnist.test.labels\n",
        "    return x_test, y_test\n",
        "\n",
        "def randomize(x, y):\n",
        "    \"\"\" Randomizes the order of data samples and their corresponding labels\"\"\"\n",
        "    permutation = np.random.permutation(y.shape[0])\n",
        "    shuffled_x = x[permutation, :]\n",
        "    shuffled_y = y[permutation]\n",
        "    return shuffled_x, shuffled_y\n",
        "\n",
        "def get_next_batch(x, y, start, end):\n",
        "    x_batch = x[start:end]\n",
        "    y_batch = y[start:end]\n",
        "    return x_batch, y_batch"
      ],
      "execution_count": 6,
      "outputs": []
    },
    {
      "cell_type": "code",
      "metadata": {
        "id": "QbL-xhX1FGrp",
        "colab_type": "code",
        "colab": {}
      },
      "source": [
        "# Load MNIST data\n",
        "x_train, y_train, x_valid, y_valid = load_data(mode='train')\n",
        "print(\"Size of:\")\n",
        "print(f\"- Training-set:\\t{len(y_train)}\")\n",
        "print(f\"- Validation-set:\\t{len(y_valid)}\")\n",
        "print('x_train:\\t{}'.format(x_train.shape))\n",
        "print('y_train:\\t{}'.format(y_train.shape))\n",
        "print('x_train:\\t{}'.format(x_valid.shape))\n",
        "print('y_valid:\\t{}'.format(y_valid.shape))"
      ],
      "execution_count": null,
      "outputs": []
    },
    {
      "cell_type": "code",
      "metadata": {
        "id": "WPsJy7fTpsdg",
        "colab_type": "code",
        "colab": {
          "base_uri": "https://localhost:8080/",
          "height": 50
        },
        "outputId": "634006b0-60e8-4415-a7a3-3831f478d854"
      },
      "source": [
        ""
      ],
      "execution_count": 9,
      "outputs": [
        {
          "output_type": "stream",
          "text": [
            "\u001b[31mERROR: Could not find a version that satisfies the requirement input_data (from versions: none)\u001b[0m\n",
            "\u001b[31mERROR: No matching distribution found for input_data\u001b[0m\n"
          ],
          "name": "stdout"
        }
      ]
    },
    {
      "cell_type": "code",
      "metadata": {
        "id": "pcAoodgZFGnz",
        "colab_type": "code",
        "colab": {}
      },
      "source": [
        "# Hyper-parameters\n",
        "epochs = 10             # Total number of training epochs\n",
        "batch_size = 100        # Training batch size\n",
        "display_freq = 100      # Frequency of displaying the training results\n",
        "learning_rate = 0.001   # The optimization initial learning rate"
      ],
      "execution_count": null,
      "outputs": []
    },
    {
      "cell_type": "markdown",
      "metadata": {
        "id": "4H8RKDEiXdOY",
        "colab_type": "text"
      },
      "source": [
        "## 4. Creating weight and bias functions:\n",
        "\n",
        "The weight and ias functions define below would help to run the session and store the values of weights and biases in the varibles of these functions"
      ]
    },
    {
      "cell_type": "code",
      "metadata": {
        "id": "PqA4n4jMXzLA",
        "colab_type": "code",
        "colab": {}
      },
      "source": [
        "def weight_variable(shape):\n",
        "    \"\"\"\n",
        "    Create a weight variable with appropriate initialization\n",
        "    :param name: weight name\n",
        "    :param shape: weight shape\n",
        "    :return: initialized weight variable\n",
        "    \"\"\"\n",
        "    initer = tf.truncated_normal_initializer(stddev=0.01)\n",
        "    return tf.get_variable('W',\n",
        "                           dtype=tf.float32,\n",
        "                           shape=shape,\n",
        "                           initializer=initer)\n",
        "\n",
        "def bias_variable(shape):\n",
        "    \"\"\"\n",
        "    Create a bias variable with appropriate initialization\n",
        "    :param name: bias variable name\n",
        "    :param shape: bias variable shape\n",
        "    :return: initialized bias variable\n",
        "    \"\"\"\n",
        "    initial = tf.constant(0., shape=shape, dtype=tf.float32)\n",
        "    return tf.get_variable('b',\n",
        "                           dtype=tf.float32,\n",
        "                           initializer=initial)"
      ],
      "execution_count": null,
      "outputs": []
    },
    {
      "cell_type": "markdown",
      "metadata": {
        "id": "SqJu7dAbX1o2",
        "colab_type": "text"
      },
      "source": [
        "## 5. Creating Neural Network:\n",
        "\n",
        "create network by defining proper tensors to feed in the input values to the model"
      ]
    },
    {
      "cell_type": "code",
      "metadata": {
        "id": "Yp4jXn6xm9Za",
        "colab_type": "code",
        "colab": {}
      },
      "source": [
        "# Create the graph for the linear model\n",
        "# Placeholders for inputs (x) and outputs(y)\n",
        "x = tf.placeholder(tf.float32, shape=[None, img_size_flat], name='X')\n",
        "y = tf.placeholder(tf.float32, shape=[None, n_classes], name='Y')"
      ],
      "execution_count": null,
      "outputs": []
    },
    {
      "cell_type": "code",
      "metadata": {
        "id": "wPbnghyHnCUm",
        "colab_type": "code",
        "colab": {}
      },
      "source": [
        "# Create weight matrix initialized randomely from N~(0, 0.01)\n",
        "W = weight_variable(shape=[img_size_flat, n_classes])\n",
        "\n",
        "# Create bias vector initialized as zero\n",
        "b = bias_variable(shape=[n_classes])\n",
        "\n",
        "output_logits = tf.matmul(x, W) + b"
      ],
      "execution_count": null,
      "outputs": []
    },
    {
      "cell_type": "code",
      "metadata": {
        "id": "vR-1nKPNnFH4",
        "colab_type": "code",
        "colab": {}
      },
      "source": [
        "# Define the loss function, optimizer, and accuracy\n",
        "loss = tf.reduce_mean(tf.nn.softmax_cross_entropy_with_logits(labels=y, logits=output_logits), name='loss')\n",
        "optimizer = tf.train.AdamOptimizer(learning_rate=learning_rate, name='Adam-op').minimize(loss)\n",
        "correct_prediction = tf.equal(tf.argmax(output_logits, 1), tf.argmax(y, 1), name='correct_pred')\n",
        "accuracy = tf.reduce_mean(tf.cast(correct_prediction, tf.float32), name='accuracy')\n",
        "\n",
        "# Model predictions\n",
        "cls_prediction = tf.argmax(output_logits, axis=1, name='predictions')"
      ],
      "execution_count": null,
      "outputs": []
    },
    {
      "cell_type": "code",
      "metadata": {
        "id": "96WWjjtCnWxZ",
        "colab_type": "code",
        "colab": {}
      },
      "source": [
        "# Creating the op for initializing all variables\n",
        "init = tf.global_variables_initializer()"
      ],
      "execution_count": null,
      "outputs": []
    },
    {
      "cell_type": "markdown",
      "metadata": {
        "id": "BYgcbtainb-Q",
        "colab_type": "text"
      },
      "source": [
        "## 6. Training"
      ]
    },
    {
      "cell_type": "code",
      "metadata": {
        "id": "px9qXwKOnaW_",
        "colab_type": "code",
        "colab": {}
      },
      "source": [
        "# Create an interactive session (to keep the session in the other cells)\n",
        "sess = tf.InteractiveSession()\n",
        "# Initialize all variables\n",
        "sess.run(init)\n",
        "# Number of training iterations in each epoch\n",
        "num_tr_iter = int(len(y_train) / batch_size)\n",
        "for epoch in range(epochs):\n",
        "    print('Training epoch: {}'.format(epoch + 1))\n",
        "    # Randomly shuffle the training data at the beginning of each epoch \n",
        "    x_train, y_train = randomize(x_train, y_train)\n",
        "    for iteration in range(num_tr_iter):\n",
        "        start = iteration * batch_size\n",
        "        end = (iteration + 1) * batch_size\n",
        "        x_batch, y_batch = get_next_batch(x_train, y_train, start, end)\n",
        "\n",
        "        # Run optimization op (backprop)\n",
        "        feed_dict_batch = {x: x_batch, y: y_batch}\n",
        "        sess.run(optimizer, feed_dict=feed_dict_batch)\n",
        "\n",
        "        if iteration % display_freq == 0:\n",
        "            # Calculate and display the batch loss and accuracy\n",
        "            loss_batch, acc_batch = sess.run([loss, accuracy],\n",
        "                                             feed_dict=feed_dict_batch)\n",
        "\n",
        "            print(\"iter {0:3d}:\\t Loss={1:.2f},\\tTraining Accuracy={2:.01%}\".\n",
        "                  format(iteration, loss_batch, acc_batch))\n",
        "\n",
        "    # Run validation after every epoch\n",
        "    feed_dict_valid = {x: x_valid[:1000], y: y_valid[:1000]}\n",
        "    loss_valid, acc_valid = sess.run([loss, accuracy], feed_dict=feed_dict_valid)\n",
        "    print('---------------------------------------------------------')\n",
        "    print(\"Epoch: {0}, validation loss: {1:.2f}, validation accuracy: {2:.01%}\".\n",
        "          format(epoch + 1, loss_valid, acc_valid))\n",
        "    print('---------------------------------------------------------')"
      ],
      "execution_count": null,
      "outputs": []
    },
    {
      "cell_type": "markdown",
      "metadata": {
        "id": "UbIKWV66nzM_",
        "colab_type": "text"
      },
      "source": [
        "## 7. Testing"
      ]
    },
    {
      "cell_type": "code",
      "metadata": {
        "id": "hQXRqS4hnvZM",
        "colab_type": "code",
        "colab": {}
      },
      "source": [
        "In [14]:\n",
        "# Test the network after training\n",
        "# Accuracy\n",
        "x_test, y_test = load_data(mode='test')\n",
        "feed_dict_test = {x: x_test[:1000], y: y_test[:1000]}\n",
        "loss_test, acc_test = sess.run([loss, accuracy], feed_dict=feed_dict_test)\n",
        "print('---------------------------------------------------------')\n",
        "print(\"Test loss: {0:.2f}, test accuracy: {1:.01%}\".format(loss_test, acc_test))\n",
        "print('---------------------------------------------------------')"
      ],
      "execution_count": null,
      "outputs": []
    },
    {
      "cell_type": "markdown",
      "metadata": {
        "id": "LMFmjA5un386",
        "colab_type": "text"
      },
      "source": [
        "##8. Visualizing the output"
      ]
    },
    {
      "cell_type": "code",
      "metadata": {
        "id": "UxoWMuDen6Gl",
        "colab_type": "code",
        "colab": {}
      },
      "source": [
        "def plot_images(images, cls_true, cls_pred=None, title=None):\n",
        "    \"\"\"\n",
        "    Create figure with 3x3 sub-plots.\n",
        "    :param images: array of images to be plotted, (9, img_h*img_w)\n",
        "    :param cls_true: corresponding true labels (9,)\n",
        "    :param cls_pred: corresponding true labels (9,)\n",
        "    \"\"\"\n",
        "    fig, axes = plt.subplots(3, 3, figsize=(9, 9))\n",
        "    fig.subplots_adjust(hspace=0.3, wspace=0.3)\n",
        "    for i, ax in enumerate(axes.flat):\n",
        "        # Plot image.\n",
        "        ax.imshow(images[i].reshape(28, 28), cmap='binary')\n",
        "\n",
        "        # Show true and predicted classes.\n",
        "        if cls_pred is None:\n",
        "            ax_title = \"True: {0}\".format(cls_true[i])\n",
        "        else:\n",
        "            ax_title = \"True: {0}, Pred: {1}\".format(cls_true[i], cls_pred[i])\n",
        "\n",
        "        ax.set_title(ax_title)\n",
        "\n",
        "        # Remove ticks from the plot.\n",
        "        ax.set_xticks([])\n",
        "        ax.set_yticks([])\n",
        "\n",
        "    if title:\n",
        "        plt.suptitle(title, size=20)\n",
        "    plt.show(block=False)\n",
        "\n",
        "def plot_example_errors(images, cls_true, cls_pred, title=None):\n",
        "    \"\"\"\n",
        "    Function for plotting examples of images that have been mis-classified\n",
        "    :param images: array of all images, (#imgs, img_h*img_w)\n",
        "    :param cls_true: corresponding true labels, (#imgs,)\n",
        "    :param cls_pred: corresponding predicted labels, (#imgs,)\n",
        "    \"\"\"\n",
        "    # Negate the boolean array.\n",
        "    incorrect = np.logical_not(np.equal(cls_pred, cls_true))\n",
        "\n",
        "    # Get the images from the test-set that have been\n",
        "    # incorrectly classified.\n",
        "    incorrect_images = images[incorrect]\n",
        "\n",
        "    # Get the true and predicted classes for those images.\n",
        "    cls_pred = cls_pred[incorrect]\n",
        "    cls_true = cls_true[incorrect]\n",
        "\n",
        "    # Plot the first 9 images.\n",
        "    plot_images(images=incorrect_images[0:9],\n",
        "                cls_true=cls_true[0:9],\n",
        "                cls_pred=cls_pred[0:9],\n",
        "                title=title)"
      ],
      "execution_count": null,
      "outputs": []
    },
    {
      "cell_type": "code",
      "metadata": {
        "id": "fvJq_BfboC4S",
        "colab_type": "code",
        "colab": {}
      },
      "source": [
        "# Plot some of the correct and misclassified examples\n",
        "cls_pred = sess.run(cls_prediction, feed_dict=feed_dict_test)\n",
        "cls_true = np.argmax(y_test[:1000], axis=1)\n",
        "plot_images(x_test, cls_true, cls_pred, title='Correct Examples')\n",
        "plot_example_errors(x_test[:1000], cls_true, cls_pred, title='Misclassified Examples')\n",
        "plt.show()"
      ],
      "execution_count": null,
      "outputs": []
    },
    {
      "cell_type": "code",
      "metadata": {
        "id": "aDBrd0HNoI74",
        "colab_type": "code",
        "colab": {}
      },
      "source": [
        "sess.close()"
      ],
      "execution_count": null,
      "outputs": []
    }
  ]
}